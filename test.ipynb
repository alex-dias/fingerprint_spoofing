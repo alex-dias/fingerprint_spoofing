{
 "cells": [
  {
   "cell_type": "code",
   "execution_count": 1,
   "metadata": {},
   "outputs": [],
   "source": [
    "import numpy as np\n",
    "import os\n",
    "import cv2 as cv\n",
    "from sklearn.model_selection import train_test_split\n",
    "import tensorflow as tf\n",
    "from keras.models import load_model\n",
    "import pandas as pd"
   ]
  },
  {
   "cell_type": "code",
   "execution_count": null,
   "metadata": {},
   "outputs": [],
   "source": [
    "\n",
    "\n",
    "x = 96\n",
    "y = 103\n",
    "\n",
    "modelSynFP = load_model('synFP.h5')\n",
    "\n",
    "real_data = \"SOCOFing/Real\"\n",
    "altered_data = \"SOCOFing/Altered\"\n",
    "\n",
    "data = []\n",
    "labels = []\n",
    "\n",
    "# load the real data and their labels\n",
    "photos_names = os.listdir(real_data)\n",
    "for name in photos_names:\n",
    "    data.append(cv.imread(os.path.join(real_data ,name) ,cv.IMREAD_GRAYSCALE))\n",
    "    labels.append(0)\n",
    "\n",
    "dirs = [\"Altered-Easy\" ,\"Altered-Hard\" ,\"Altered-Medium\"]\n",
    "for folder in dirs:\n",
    "    photos_names = os.listdir(os.path.join(altered_data ,folder))\n",
    "    for name in photos_names:\n",
    "        data.append(cv.imread(os.path.join(altered_data ,folder ,name) ,cv.IMREAD_GRAYSCALE))\n",
    "        labels.append(1)\n",
    "\n",
    "# resizeing all the data to 103X96\n",
    "for i,image in enumerate(data):\n",
    "    data[i] = cv.resize(image ,(x,y))"
   ]
  },
  {
   "cell_type": "code",
   "execution_count": null,
   "metadata": {},
   "outputs": [],
   "source": [
    "data = np.stack(data).reshape(-1 ,y ,x ,1)\n",
    "labels = np.stack(labels).reshape(-1 ,1)\n",
    "\n",
    "test_data_tensor = tf.convert_to_tensor(data, dtype=tf.float16)\n",
    "test_labels_tensor = tf.convert_to_tensor(labels, dtype=tf.int16)\n",
    "\n",
    "# converting to 3 channels\n",
    "test_data_3 = tf.image.grayscale_to_rgb(test_data_tensor)"
   ]
  },
  {
   "cell_type": "code",
   "execution_count": null,
   "metadata": {},
   "outputs": [
    {
     "name": "stdout",
     "output_type": "stream",
     "text": [
      "1728/1728 [==============================] - 49s 25ms/step\n",
      "Balanced Accuracy: 0.49978027535349434\n",
      "Confusion Matrix: \n",
      "[[ 5567   433]\n",
      " [45736  3534]]\n",
      "              precision    recall  f1-score   support\n",
      "\n",
      "           0       0.11      0.93      0.19      6000\n",
      "           1       0.89      0.07      0.13     49270\n",
      "\n",
      "    accuracy                           0.16     55270\n",
      "   macro avg       0.50      0.50      0.16     55270\n",
      "weighted avg       0.81      0.16      0.14     55270\n",
      "\n"
     ]
    }
   ],
   "source": [
    "from sklearn.metrics import balanced_accuracy_score\n",
    "from sklearn.metrics import confusion_matrix\n",
    "from sklearn.metrics import classification_report\n",
    "\n",
    "y_pred = modelSynFP.predict(test_data_3)\n",
    "\n",
    "print(\"Balanced Accuracy: \" +  str(balanced_accuracy_score(test_labels_tensor, np.rint(y_pred))))\n",
    "print(\"Confusion Matrix: \\n\" +  str(confusion_matrix(test_labels_tensor, np.rint(y_pred))))\n",
    "print(classification_report(test_labels_tensor, np.rint(y_pred)))"
   ]
  },
  {
   "cell_type": "code",
   "execution_count": null,
   "metadata": {},
   "outputs": [
    {
     "data": {
      "text/plain": [
       "{0.0: 51303, 1.0: 3967}"
      ]
     },
     "execution_count": 4,
     "metadata": {},
     "output_type": "execute_result"
    }
   ],
   "source": [
    "a= np.rint(y_pred)\n",
    "\n",
    "unique, counts = np.unique(a, return_counts=True)\n",
    "\n",
    "dict(zip(unique, counts))"
   ]
  },
  {
   "cell_type": "code",
   "execution_count": 2,
   "metadata": {},
   "outputs": [],
   "source": [
    "modelSoco = load_model('socoF.h5')"
   ]
  },
  {
   "cell_type": "code",
   "execution_count": 3,
   "metadata": {},
   "outputs": [],
   "source": [
    "x = 96\n",
    "y = 103\n",
    "\n",
    "real_data = \"SOCOFing/Real\"\n",
    "altered_data = \"SOCOFing/Altered\"\n",
    "\n",
    "data = []\n",
    "labels = []\n",
    "\n",
    "df = pd.DataFrame(columns=['id', 'image', 'label'])\n",
    "\n",
    "i = 0\n",
    "dirs = [\"Altered-Easy\"]\n",
    "for folder in dirs:\n",
    "    photos_names = os.listdir(os.path.join(altered_data ,folder))\n",
    "    for name in photos_names:\n",
    "        img = cv.imread(os.path.join(altered_data ,folder ,name) ,cv.IMREAD_GRAYSCALE)\n",
    "        data.append(img)\n",
    "        labels.append(1)\n",
    "        \n",
    "        df.loc[i, 'id'] = name.split('_')[0]\n",
    "        df.loc[i, 'image'] = img\n",
    "        df.loc[i, 'label'] = 1\n",
    "        i += 1\n",
    "\n",
    "test_data = df['image'].values\n",
    "test_labels = df['label'].values\n",
    "\n",
    "for i,image in enumerate(test_data):\n",
    "    test_data[i] = cv.resize(image ,(x,y))\n",
    "\n",
    "test_data = np.stack(test_data).reshape(-1 ,y ,x ,1)\n",
    "test_labels = np.stack(test_labels).reshape(-1 ,1)\n",
    "\n",
    "# converting numpy arrays to tensors\n",
    "test_data_tensor = tf.convert_to_tensor(test_data, dtype=tf.float16)\n",
    "test_labels_tensor = tf.convert_to_tensor(test_labels, dtype=tf.int16)\n",
    "\n",
    "# converting to 3 channels\n",
    "test_data_3 = tf.image.grayscale_to_rgb(test_data_tensor)"
   ]
  },
  {
   "cell_type": "code",
   "execution_count": 4,
   "metadata": {},
   "outputs": [
    {
     "name": "stdout",
     "output_type": "stream",
     "text": [
      "561/561 [==============================] - 19s 26ms/step\n",
      "0.6618147342591043\n",
      "Confusion Matrix: \n",
      "[[    0     0]\n",
      " [ 6064 11867]]\n",
      "              precision    recall  f1-score   support\n",
      "\n",
      "         0.0       0.00      0.00      0.00         0\n",
      "         1.0       1.00      0.66      0.80     17931\n",
      "\n",
      "    accuracy                           0.66     17931\n",
      "   macro avg       0.50      0.33      0.40     17931\n",
      "weighted avg       1.00      0.66      0.80     17931\n",
      "\n"
     ]
    },
    {
     "name": "stderr",
     "output_type": "stream",
     "text": [
      "c:\\Users\\Alexandre\\anaconda3\\envs\\tfnn\\lib\\site-packages\\sklearn\\metrics\\_classification.py:2399: UserWarning: y_pred contains classes not in y_true\n",
      "  warnings.warn(\"y_pred contains classes not in y_true\")\n",
      "c:\\Users\\Alexandre\\anaconda3\\envs\\tfnn\\lib\\site-packages\\sklearn\\metrics\\_classification.py:1471: UndefinedMetricWarning: Recall and F-score are ill-defined and being set to 0.0 in labels with no true samples. Use `zero_division` parameter to control this behavior.\n",
      "  _warn_prf(average, modifier, msg_start, len(result))\n",
      "c:\\Users\\Alexandre\\anaconda3\\envs\\tfnn\\lib\\site-packages\\sklearn\\metrics\\_classification.py:1471: UndefinedMetricWarning: Recall and F-score are ill-defined and being set to 0.0 in labels with no true samples. Use `zero_division` parameter to control this behavior.\n",
      "  _warn_prf(average, modifier, msg_start, len(result))\n",
      "c:\\Users\\Alexandre\\anaconda3\\envs\\tfnn\\lib\\site-packages\\sklearn\\metrics\\_classification.py:1471: UndefinedMetricWarning: Recall and F-score are ill-defined and being set to 0.0 in labels with no true samples. Use `zero_division` parameter to control this behavior.\n",
      "  _warn_prf(average, modifier, msg_start, len(result))\n"
     ]
    }
   ],
   "source": [
    "# calculate the balanced accuracy\n",
    "from sklearn.metrics import balanced_accuracy_score\n",
    "from sklearn.metrics import classification_report\n",
    "from sklearn.metrics import confusion_matrix\n",
    "\n",
    "y_pred = modelSoco.predict(test_data_3)\n",
    "\n",
    "print(balanced_accuracy_score(test_labels_tensor, np.rint(y_pred)))\n",
    "print(\"Confusion Matrix: \\n\" +  str(confusion_matrix(test_labels_tensor, np.rint(y_pred))))\n",
    "print(classification_report(test_labels_tensor, np.rint(y_pred)))"
   ]
  },
  {
   "cell_type": "code",
   "execution_count": 3,
   "metadata": {},
   "outputs": [],
   "source": [
    "x = 96\n",
    "y = 103\n",
    "\n",
    "real_data = \"SOCOFing/Real\"\n",
    "altered_data = \"SOCOFing/Altered\"\n",
    "\n",
    "data = []\n",
    "labels = []\n",
    "\n",
    "df = pd.DataFrame(columns=['id', 'image', 'label'])\n",
    "\n",
    "i = 0\n",
    "dirs = [\"Altered-Medium\"]\n",
    "for folder in dirs:\n",
    "    photos_names = os.listdir(os.path.join(altered_data ,folder))\n",
    "    for name in photos_names:\n",
    "        img = cv.imread(os.path.join(altered_data ,folder ,name) ,cv.IMREAD_GRAYSCALE)\n",
    "        data.append(img)\n",
    "        labels.append(1)\n",
    "        \n",
    "        df.loc[i, 'id'] = name.split('_')[0]\n",
    "        df.loc[i, 'image'] = img\n",
    "        df.loc[i, 'label'] = 1\n",
    "        i += 1\n",
    "\n",
    "test_data = df['image'].values\n",
    "test_labels = df['label'].values\n",
    "\n",
    "for i,image in enumerate(test_data):\n",
    "    test_data[i] = cv.resize(image ,(x,y))\n",
    "\n",
    "test_data = np.stack(test_data).reshape(-1 ,y ,x ,1)\n",
    "test_labels = np.stack(test_labels).reshape(-1 ,1)\n",
    "\n",
    "# converting numpy arrays to tensors\n",
    "test_data_tensor = tf.convert_to_tensor(test_data, dtype=tf.float16)\n",
    "test_labels_tensor = tf.convert_to_tensor(test_labels, dtype=tf.int16)\n",
    "\n",
    "# converting to 3 channels\n",
    "test_data_3 = tf.image.grayscale_to_rgb(test_data_tensor)"
   ]
  },
  {
   "cell_type": "code",
   "execution_count": 4,
   "metadata": {},
   "outputs": [
    {
     "name": "stdout",
     "output_type": "stream",
     "text": [
      "534/534 [==============================] - 17s 26ms/step\n",
      "0.9634968067029941\n",
      "Confusion Matrix: \n",
      "[[    0     0]\n",
      " [  623 16444]]\n",
      "              precision    recall  f1-score   support\n",
      "\n",
      "         0.0       0.00      0.00      0.00         0\n",
      "         1.0       1.00      0.96      0.98     17067\n",
      "\n",
      "    accuracy                           0.96     17067\n",
      "   macro avg       0.50      0.48      0.49     17067\n",
      "weighted avg       1.00      0.96      0.98     17067\n",
      "\n"
     ]
    },
    {
     "name": "stderr",
     "output_type": "stream",
     "text": [
      "c:\\Users\\Alexandre\\anaconda3\\envs\\tfnn\\lib\\site-packages\\sklearn\\metrics\\_classification.py:2399: UserWarning: y_pred contains classes not in y_true\n",
      "  warnings.warn(\"y_pred contains classes not in y_true\")\n",
      "c:\\Users\\Alexandre\\anaconda3\\envs\\tfnn\\lib\\site-packages\\sklearn\\metrics\\_classification.py:1471: UndefinedMetricWarning: Recall and F-score are ill-defined and being set to 0.0 in labels with no true samples. Use `zero_division` parameter to control this behavior.\n",
      "  _warn_prf(average, modifier, msg_start, len(result))\n",
      "c:\\Users\\Alexandre\\anaconda3\\envs\\tfnn\\lib\\site-packages\\sklearn\\metrics\\_classification.py:1471: UndefinedMetricWarning: Recall and F-score are ill-defined and being set to 0.0 in labels with no true samples. Use `zero_division` parameter to control this behavior.\n",
      "  _warn_prf(average, modifier, msg_start, len(result))\n",
      "c:\\Users\\Alexandre\\anaconda3\\envs\\tfnn\\lib\\site-packages\\sklearn\\metrics\\_classification.py:1471: UndefinedMetricWarning: Recall and F-score are ill-defined and being set to 0.0 in labels with no true samples. Use `zero_division` parameter to control this behavior.\n",
      "  _warn_prf(average, modifier, msg_start, len(result))\n"
     ]
    }
   ],
   "source": [
    "# calculate the balanced accuracy\n",
    "from sklearn.metrics import balanced_accuracy_score\n",
    "from sklearn.metrics import classification_report\n",
    "from sklearn.metrics import confusion_matrix\n",
    "\n",
    "y_pred = modelSoco.predict(test_data_3)\n",
    "\n",
    "print(balanced_accuracy_score(test_labels_tensor, np.rint(y_pred)))\n",
    "print(\"Confusion Matrix: \\n\" +  str(confusion_matrix(test_labels_tensor, np.rint(y_pred))))\n",
    "print(classification_report(test_labels_tensor, np.rint(y_pred)))"
   ]
  },
  {
   "cell_type": "code",
   "execution_count": 3,
   "metadata": {},
   "outputs": [],
   "source": [
    "x = 96\n",
    "y = 103\n",
    "\n",
    "real_data = \"SOCOFing/Real\"\n",
    "altered_data = \"SOCOFing/Altered\"\n",
    "\n",
    "data = []\n",
    "labels = []\n",
    "\n",
    "df = pd.DataFrame(columns=['id', 'image', 'label'])\n",
    "\n",
    "i = 0\n",
    "dirs = [\"Altered-Hard\"]\n",
    "for folder in dirs:\n",
    "    photos_names = os.listdir(os.path.join(altered_data ,folder))\n",
    "    for name in photos_names:\n",
    "        img = cv.imread(os.path.join(altered_data ,folder ,name) ,cv.IMREAD_GRAYSCALE)\n",
    "        data.append(img)\n",
    "        labels.append(1)\n",
    "        \n",
    "        df.loc[i, 'id'] = name.split('_')[0]\n",
    "        df.loc[i, 'image'] = img\n",
    "        df.loc[i, 'label'] = 1\n",
    "        i += 1\n",
    "\n",
    "test_data = df['image'].values\n",
    "test_labels = df['label'].values\n",
    "\n",
    "for i,image in enumerate(test_data):\n",
    "    test_data[i] = cv.resize(image ,(x,y))\n",
    "\n",
    "test_data = np.stack(test_data).reshape(-1 ,y ,x ,1)\n",
    "test_labels = np.stack(test_labels).reshape(-1 ,1)\n",
    "\n",
    "# converting numpy arrays to tensors\n",
    "test_data_tensor = tf.convert_to_tensor(test_data, dtype=tf.float16)\n",
    "test_labels_tensor = tf.convert_to_tensor(test_labels, dtype=tf.int16)\n",
    "\n",
    "# converting to 3 channels\n",
    "test_data_3 = tf.image.grayscale_to_rgb(test_data_tensor)"
   ]
  },
  {
   "cell_type": "code",
   "execution_count": 4,
   "metadata": {},
   "outputs": [
    {
     "name": "stdout",
     "output_type": "stream",
     "text": [
      "446/446 [==============================] - 14s 25ms/step\n",
      "0.9882987668161435\n",
      "Confusion Matrix: \n",
      "[[    0     0]\n",
      " [  167 14105]]\n",
      "              precision    recall  f1-score   support\n",
      "\n",
      "         0.0       0.00      0.00      0.00         0\n",
      "         1.0       1.00      0.99      0.99     14272\n",
      "\n",
      "    accuracy                           0.99     14272\n",
      "   macro avg       0.50      0.49      0.50     14272\n",
      "weighted avg       1.00      0.99      0.99     14272\n",
      "\n"
     ]
    },
    {
     "name": "stderr",
     "output_type": "stream",
     "text": [
      "c:\\Users\\Alexandre\\anaconda3\\envs\\tfnn\\lib\\site-packages\\sklearn\\metrics\\_classification.py:2399: UserWarning: y_pred contains classes not in y_true\n",
      "  warnings.warn(\"y_pred contains classes not in y_true\")\n",
      "c:\\Users\\Alexandre\\anaconda3\\envs\\tfnn\\lib\\site-packages\\sklearn\\metrics\\_classification.py:1471: UndefinedMetricWarning: Recall and F-score are ill-defined and being set to 0.0 in labels with no true samples. Use `zero_division` parameter to control this behavior.\n",
      "  _warn_prf(average, modifier, msg_start, len(result))\n",
      "c:\\Users\\Alexandre\\anaconda3\\envs\\tfnn\\lib\\site-packages\\sklearn\\metrics\\_classification.py:1471: UndefinedMetricWarning: Recall and F-score are ill-defined and being set to 0.0 in labels with no true samples. Use `zero_division` parameter to control this behavior.\n",
      "  _warn_prf(average, modifier, msg_start, len(result))\n",
      "c:\\Users\\Alexandre\\anaconda3\\envs\\tfnn\\lib\\site-packages\\sklearn\\metrics\\_classification.py:1471: UndefinedMetricWarning: Recall and F-score are ill-defined and being set to 0.0 in labels with no true samples. Use `zero_division` parameter to control this behavior.\n",
      "  _warn_prf(average, modifier, msg_start, len(result))\n"
     ]
    }
   ],
   "source": [
    "# calculate the balanced accuracy\n",
    "from sklearn.metrics import balanced_accuracy_score\n",
    "from sklearn.metrics import classification_report\n",
    "from sklearn.metrics import confusion_matrix\n",
    "\n",
    "y_pred = modelSoco.predict(test_data_3)\n",
    "\n",
    "print(balanced_accuracy_score(test_labels_tensor, np.rint(y_pred)))\n",
    "print(\"Confusion Matrix: \\n\" +  str(confusion_matrix(test_labels_tensor, np.rint(y_pred))))\n",
    "print(classification_report(test_labels_tensor, np.rint(y_pred)))"
   ]
  },
  {
   "cell_type": "code",
   "execution_count": 3,
   "metadata": {},
   "outputs": [],
   "source": [
    "x = 96\n",
    "y = 103\n",
    "\n",
    "real_data = \"SOCOFing/Real\"\n",
    "altered_data = \"SOCOFing/Altered\"\n",
    "\n",
    "data = []\n",
    "labels = []\n",
    "\n",
    "df = pd.DataFrame(columns=['id', 'image', 'label'])\n",
    "# load the real data and their labels\n",
    "photos_names = os.listdir(real_data)\n",
    "\n",
    "i = 0\n",
    "for name in photos_names:\n",
    "    img = cv.imread(os.path.join(real_data ,name) ,cv.IMREAD_GRAYSCALE)\n",
    "    data.append(img)\n",
    "    labels.append(0)\n",
    "    \n",
    "    df.loc[i, 'id'] = name.split('_')[0]\n",
    "    df.loc[i, 'image'] = img\n",
    "    df.loc[i, 'label'] = 0\n",
    "    i += 1\n",
    "\n",
    "# load the altered data and their labels\n",
    "dirs = [\"Altered-Easy\" ,\"Altered-Hard\" ,\"Altered-Medium\"]\n",
    "for folder in dirs:\n",
    "    photos_names = os.listdir(os.path.join(altered_data ,folder))\n",
    "    for name in photos_names:\n",
    "        img = cv.imread(os.path.join(altered_data ,folder ,name) ,cv.IMREAD_GRAYSCALE)\n",
    "        data.append(img)\n",
    "        labels.append(1)\n",
    "        \n",
    "        df.loc[i, 'id'] = name.split('_')[0]\n",
    "        df.loc[i, 'image'] = img\n",
    "        df.loc[i, 'label'] = 1\n",
    "        i += 1\n",
    "        \n",
    "\n",
    "train, test = train_test_split(df, test_size=0.2, random_state=42, shuffle=True, stratify=df['id'])\n",
    "# train_data, test_data, train_labels, test_labels  = train_test_split(data, labels, test_size=0.2, random_state=42)\n",
    "\n",
    "train_data = train['image'].values\n",
    "train_labels = train['label'].values\n",
    "\n",
    "test_data = test['image'].values\n",
    "test_labels = test['label'].values\n",
    "\n",
    "# resizing all the data to 103X96\n",
    "# for i,image in enumerate(data):\n",
    "#     data[i] = cv.resize(image ,(x,y))\n",
    "    \n",
    "# data = np.stack(data).reshape(-1 ,y ,x ,1)\n",
    "# labels = np.stack(labels).reshape(-1 ,1)\n",
    "\n",
    "# remake the code above for the train and test data\n",
    "for i,image in enumerate(train_data):\n",
    "    train_data[i] = cv.resize(image ,(x,y))\n",
    "\n",
    "train_data = np.stack(train_data).reshape(-1 ,y ,x ,1)\n",
    "train_labels = np.stack(train_labels).reshape(-1 ,1)\n",
    "\n",
    "for i,image in enumerate(test_data):\n",
    "    test_data[i] = cv.resize(image ,(x,y))\n",
    "\n",
    "test_data = np.stack(test_data).reshape(-1 ,y ,x ,1)\n",
    "test_labels = np.stack(test_labels).reshape(-1 ,1)\n",
    "\n",
    "\n",
    "# converting numpy arrays to tensors\n",
    "train_data_tensor = tf.convert_to_tensor(train_data, dtype=tf.float16)\n",
    "test_data_tensor = tf.convert_to_tensor(test_data, dtype=tf.float16)\n",
    "train_labels_tensor = tf.convert_to_tensor(train_labels, dtype=tf.int16)\n",
    "test_labels_tensor = tf.convert_to_tensor(test_labels, dtype=tf.int16)\n",
    "\n",
    "# converting to 3 channels\n",
    "train_data_3 = tf.image.grayscale_to_rgb(train_data_tensor)\n",
    "test_data_3 = tf.image.grayscale_to_rgb(test_data_tensor)"
   ]
  },
  {
   "cell_type": "code",
   "execution_count": 4,
   "metadata": {},
   "outputs": [
    {
     "name": "stdout",
     "output_type": "stream",
     "text": [
      "346/346 [==============================] - 12s 26ms/step\n",
      "0.8875934831302199\n",
      "Confusion Matrix: \n",
      "[[1062  148]\n",
      " [1009 8835]]\n",
      "              precision    recall  f1-score   support\n",
      "\n",
      "           0       0.51      0.88      0.65      1210\n",
      "           1       0.98      0.90      0.94      9844\n",
      "\n",
      "    accuracy                           0.90     11054\n",
      "   macro avg       0.75      0.89      0.79     11054\n",
      "weighted avg       0.93      0.90      0.91     11054\n",
      "\n"
     ]
    }
   ],
   "source": [
    "# calculate the balanced accuracy\n",
    "from sklearn.metrics import balanced_accuracy_score\n",
    "from sklearn.metrics import classification_report\n",
    "from sklearn.metrics import confusion_matrix\n",
    "\n",
    "y_pred = modelSoco.predict(test_data_3)\n",
    "\n",
    "print(balanced_accuracy_score(test_labels_tensor, np.rint(y_pred)))\n",
    "print(\"Confusion Matrix: \\n\" +  str(confusion_matrix(test_labels_tensor, np.rint(y_pred))))\n",
    "print(classification_report(test_labels_tensor, np.rint(y_pred)))"
   ]
  }
 ],
 "metadata": {
  "kernelspec": {
   "display_name": "tfnn",
   "language": "python",
   "name": "python3"
  },
  "language_info": {
   "codemirror_mode": {
    "name": "ipython",
    "version": 3
   },
   "file_extension": ".py",
   "mimetype": "text/x-python",
   "name": "python",
   "nbconvert_exporter": "python",
   "pygments_lexer": "ipython3",
   "version": "3.8.0"
  }
 },
 "nbformat": 4,
 "nbformat_minor": 2
}
