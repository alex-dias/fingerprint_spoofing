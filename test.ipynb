{
 "cells": [
  {
   "cell_type": "code",
   "execution_count": 1,
   "metadata": {},
   "outputs": [],
   "source": [
    "from keras.models import load_model\n",
    "model = load_model('socoF.h5')"
   ]
  },
  {
   "cell_type": "code",
   "execution_count": 2,
   "metadata": {},
   "outputs": [],
   "source": [
    "x = 96\n",
    "y = 103"
   ]
  },
  {
   "cell_type": "code",
   "execution_count": 3,
   "metadata": {},
   "outputs": [],
   "source": [
    "import numpy as np\n",
    "import os\n",
    "import cv2 as cv\n",
    "from sklearn.model_selection import train_test_split\n",
    "import tensorflow as tf\n",
    "\n",
    "real_data = \"CrossMatch\"\n",
    "altered_data = \"AMSL_SynFP_SGR_v1/crossmatch_andrey_512_seeds1-50000\"\n",
    "\n",
    "data = []\n",
    "labels = []\n",
    "\n",
    "# load the real data and their labels\n",
    "photos_names = os.listdir(real_data)\n",
    "for name in photos_names:\n",
    "    data.append(cv.imread(os.path.join(real_data ,name) ,cv.IMREAD_GRAYSCALE))\n",
    "    labels.append(0)\n",
    "\n",
    "# load the altered data and their labels\n",
    "photos_names = os.listdir(altered_data)\n",
    "for name in photos_names:\n",
    "    data.append(cv.imread(os.path.join(altered_data, name) ,cv.IMREAD_GRAYSCALE))\n",
    "    labels.append(1)\n",
    "\n",
    "# resizeing all the data to 103X96\n",
    "for i,image in enumerate(data):\n",
    "    data[i] = cv.resize(image ,(x,y))"
   ]
  },
  {
   "cell_type": "code",
   "execution_count": 4,
   "metadata": {},
   "outputs": [],
   "source": [
    "data = np.stack(data).reshape(-1 ,y ,x ,1)\n",
    "labels = np.stack(labels).reshape(-1 ,1)\n",
    "\n",
    "train_data, test_data, train_labels, test_labels  = train_test_split(data, labels, test_size=0.2, random_state=42)\n",
    "\n",
    "\n",
    "# converting numpy arrays to tensors\n",
    "train_data_tensor = tf.convert_to_tensor(train_data, dtype=tf.float16)\n",
    "test_data_tensor = tf.convert_to_tensor(test_data, dtype=tf.float16)\n",
    "train_labels_tensor = tf.convert_to_tensor(train_labels, dtype=tf.int16)\n",
    "test_labels_tensor = tf.convert_to_tensor(test_labels, dtype=tf.int16)\n",
    "\n",
    "# converting to 3 channels\n",
    "train_data_3 = tf.image.grayscale_to_rgb(train_data_tensor)\n",
    "test_data_3 = tf.image.grayscale_to_rgb(test_data_tensor)"
   ]
  },
  {
   "cell_type": "code",
   "execution_count": 5,
   "metadata": {},
   "outputs": [
    {
     "name": "stdout",
     "output_type": "stream",
     "text": [
      "316/316 [==============================] - 16s 32ms/step\n",
      "0.5074097695635572\n"
     ]
    }
   ],
   "source": [
    "y_pred = model.predict(test_data_3)\n",
    "# calculate the balanced accuracy\n",
    "from sklearn.metrics import balanced_accuracy_score\n",
    "print(balanced_accuracy_score(test_labels_tensor, np.rint(y_pred)))"
   ]
  }
 ],
 "metadata": {
  "kernelspec": {
   "display_name": "tfnn",
   "language": "python",
   "name": "python3"
  },
  "language_info": {
   "codemirror_mode": {
    "name": "ipython",
    "version": 3
   },
   "file_extension": ".py",
   "mimetype": "text/x-python",
   "name": "python",
   "nbconvert_exporter": "python",
   "pygments_lexer": "ipython3",
   "version": "3.8.0"
  }
 },
 "nbformat": 4,
 "nbformat_minor": 2
}
