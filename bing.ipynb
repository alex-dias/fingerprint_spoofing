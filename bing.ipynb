{
 "cells": [
  {
   "cell_type": "code",
   "execution_count": 1,
   "metadata": {},
   "outputs": [],
   "source": [
    "import numpy as np\n",
    "import os\n",
    "import cv2 as cv\n",
    "from sklearn.model_selection import train_test_split\n",
    "import tensorflow as tf\n",
    "from keras.models import load_model\n",
    "\n",
    "x = 96\n",
    "y = 103\n",
    "\n",
    "modelSynFP = load_model('synFP.h5')\n",
    "\n",
    "real_data = \"bing\"\n",
    "\n",
    "data = []\n",
    "labels = []\n",
    "\n",
    "# load the real data and their labels\n",
    "photos_names = os.listdir(real_data)\n",
    "for name in photos_names:\n",
    "    data.append(cv.imread(os.path.join(real_data ,name) ,cv.IMREAD_GRAYSCALE))\n",
    "    labels.append(1)\n",
    "\n",
    "# resizeing all the data to 103X96\n",
    "for i,image in enumerate(data):\n",
    "    data[i] = cv.resize(image ,(x,y))"
   ]
  },
  {
   "cell_type": "code",
   "execution_count": 2,
   "metadata": {},
   "outputs": [],
   "source": [
    "data = np.stack(data).reshape(-1 ,y ,x ,1)\n",
    "labels = np.stack(labels).reshape(-1 ,1)\n",
    "\n",
    "test_data_tensor = tf.convert_to_tensor(data, dtype=tf.float16)\n",
    "test_labels_tensor = tf.convert_to_tensor(labels, dtype=tf.int16)\n",
    "\n",
    "# converting to 3 channels\n",
    "test_data_3 = tf.image.grayscale_to_rgb(test_data_tensor)"
   ]
  },
  {
   "cell_type": "code",
   "execution_count": 3,
   "metadata": {},
   "outputs": [
    {
     "name": "stdout",
     "output_type": "stream",
     "text": [
      "1/1 [==============================] - 6s 6s/step\n",
      "Balanced Accuracy: 0.9333333333333333\n",
      "Confusion Matrix: \n",
      "[[ 0  0]\n",
      " [ 2 28]]\n",
      "              precision    recall  f1-score   support\n",
      "\n",
      "         0.0       0.00      0.00      0.00         0\n",
      "         1.0       1.00      0.93      0.97        30\n",
      "\n",
      "    accuracy                           0.93        30\n",
      "   macro avg       0.50      0.47      0.48        30\n",
      "weighted avg       1.00      0.93      0.97        30\n",
      "\n"
     ]
    },
    {
     "name": "stderr",
     "output_type": "stream",
     "text": [
      "c:\\Users\\Alexandre\\anaconda3\\envs\\tfnn\\lib\\site-packages\\sklearn\\metrics\\_classification.py:2399: UserWarning: y_pred contains classes not in y_true\n",
      "  warnings.warn(\"y_pred contains classes not in y_true\")\n",
      "c:\\Users\\Alexandre\\anaconda3\\envs\\tfnn\\lib\\site-packages\\sklearn\\metrics\\_classification.py:1471: UndefinedMetricWarning: Recall and F-score are ill-defined and being set to 0.0 in labels with no true samples. Use `zero_division` parameter to control this behavior.\n",
      "  _warn_prf(average, modifier, msg_start, len(result))\n",
      "c:\\Users\\Alexandre\\anaconda3\\envs\\tfnn\\lib\\site-packages\\sklearn\\metrics\\_classification.py:1471: UndefinedMetricWarning: Recall and F-score are ill-defined and being set to 0.0 in labels with no true samples. Use `zero_division` parameter to control this behavior.\n",
      "  _warn_prf(average, modifier, msg_start, len(result))\n",
      "c:\\Users\\Alexandre\\anaconda3\\envs\\tfnn\\lib\\site-packages\\sklearn\\metrics\\_classification.py:1471: UndefinedMetricWarning: Recall and F-score are ill-defined and being set to 0.0 in labels with no true samples. Use `zero_division` parameter to control this behavior.\n",
      "  _warn_prf(average, modifier, msg_start, len(result))\n"
     ]
    }
   ],
   "source": [
    "from sklearn.metrics import balanced_accuracy_score\n",
    "from sklearn.metrics import confusion_matrix\n",
    "from sklearn.metrics import classification_report\n",
    "\n",
    "y_pred = modelSynFP.predict(test_data_3)\n",
    "\n",
    "print(\"Balanced Accuracy: \" +  str(balanced_accuracy_score(test_labels_tensor, np.rint(y_pred))))\n",
    "print(\"Confusion Matrix: \\n\" +  str(confusion_matrix(test_labels_tensor, np.rint(y_pred))))\n",
    "print(classification_report(test_labels_tensor, np.rint(y_pred)))"
   ]
  }
 ],
 "metadata": {
  "kernelspec": {
   "display_name": "tfnn",
   "language": "python",
   "name": "python3"
  },
  "language_info": {
   "codemirror_mode": {
    "name": "ipython",
    "version": 3
   },
   "file_extension": ".py",
   "mimetype": "text/x-python",
   "name": "python",
   "nbconvert_exporter": "python",
   "pygments_lexer": "ipython3",
   "version": "3.8.0"
  }
 },
 "nbformat": 4,
 "nbformat_minor": 2
}
