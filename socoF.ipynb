{
 "cells": [
  {
   "cell_type": "code",
   "execution_count": 1,
   "metadata": {},
   "outputs": [],
   "source": [
    "import numpy as np\n",
    "import os\n",
    "import cv2 as cv\n",
    "from sklearn.model_selection import train_test_split\n",
    "import tensorflow as tf\n",
    "real_data = \"SOCOFing/Real\"\n",
    "altered_data = \"SOCOFing/Altered\""
   ]
  },
  {
   "cell_type": "markdown",
   "metadata": {},
   "source": [
    "Sokoto Coventry Fingerprint Dataset (SOCOFing) is a biometric fingerprint database designed for academic research purposes. SOCOFing is made up of 6,000 fingerprint images from 600 African subjects and contains unique attributes such as labels for gender, hand and finger name as well as synthetically altered versions with three different levels of alteration for obliteration, central rotation, and z-cut. For a complete formal description and usage policy please refer to the following paper: https://arxiv.org/abs/1807.10609"
   ]
  },
  {
   "cell_type": "code",
   "execution_count": 2,
   "metadata": {},
   "outputs": [],
   "source": [
    "data = []\n",
    "labels = []\n",
    "\n",
    "# load the real data and their labels\n",
    "photos_names = os.listdir(real_data)\n",
    "for name in photos_names:\n",
    "    data.append(cv.imread(os.path.join(real_data ,name) ,cv.IMREAD_GRAYSCALE))\n",
    "    labels.append(0)\n",
    "\n",
    "# load the altered data and their labels\n",
    "dirs = [\"Altered-Easy\" ,\"Altered-Hard\" ,\"Altered-Medium\"]\n",
    "for folder in dirs:\n",
    "    photos_names = os.listdir(os.path.join(altered_data ,folder))\n",
    "    for name in photos_names:\n",
    "        data.append(cv.imread(os.path.join(altered_data ,folder ,name) ,cv.IMREAD_GRAYSCALE))\n",
    "        labels.append(1)"
   ]
  },
  {
   "cell_type": "code",
   "execution_count": 3,
   "metadata": {},
   "outputs": [],
   "source": [
    "x = 96\n",
    "y = 103"
   ]
  },
  {
   "cell_type": "code",
   "execution_count": 4,
   "metadata": {},
   "outputs": [],
   "source": [
    "# resizeing all the data to 103X96\n",
    "for i,image in enumerate(data):\n",
    "    data[i] = cv.resize(image ,(x,y))\n",
    "    \n",
    "data = np.stack(data).reshape(-1 ,y ,x ,1)\n",
    "labels = np.stack(labels).reshape(-1 ,1)"
   ]
  },
  {
   "cell_type": "code",
   "execution_count": 5,
   "metadata": {},
   "outputs": [],
   "source": [
    "train_data, test_data, train_labels, test_labels  = train_test_split(data, labels, test_size=0.2, random_state=42)"
   ]
  },
  {
   "cell_type": "code",
   "execution_count": 6,
   "metadata": {},
   "outputs": [
    {
     "name": "stdout",
     "output_type": "stream",
     "text": [
      "images without the correct shape:  0\n"
     ]
    }
   ],
   "source": [
    "# print the shape of the data for each image\n",
    "i = 0\n",
    "for image in train_data:\n",
    "    if image.shape != (y, x, 1):\n",
    "        i += 1\n",
    "print('images without the correct shape: ', i)"
   ]
  },
  {
   "cell_type": "code",
   "execution_count": 7,
   "metadata": {},
   "outputs": [
    {
     "name": "stdout",
     "output_type": "stream",
     "text": [
      "[1]\n"
     ]
    },
    {
     "data": {
      "image/png": "[encoded data removed]",
      "text/plain": [
       "<Figure size 640x480 with 1 Axes>"
      ]
     },
     "metadata": {},
     "output_type": "display_data"
    }
   ],
   "source": [
    "# visualization of 1 image from train data\n",
    "import matplotlib.pyplot as plt\n",
    "print(train_labels[0])\n",
    "plt.imshow(train_data[0], cmap='gray')\n",
    "plt.show()"
   ]
  },
  {
   "cell_type": "code",
   "execution_count": 6,
   "metadata": {},
   "outputs": [],
   "source": [
    "# converting numpy arrays to tensors\n",
    "train_data_tensor = tf.convert_to_tensor(train_data, dtype=tf.float16)\n",
    "test_data_tensor = tf.convert_to_tensor(test_data, dtype=tf.float16)\n",
    "train_labels_tensor = tf.convert_to_tensor(train_labels, dtype=tf.int16)\n",
    "test_labels_tensor = tf.convert_to_tensor(test_labels, dtype=tf.int16)\n",
    "\n",
    "# converting to 3 channels\n",
    "train_data_3 = tf.image.grayscale_to_rgb(train_data_tensor)\n",
    "test_data_3 = tf.image.grayscale_to_rgb(test_data_tensor)"
   ]
  },
  {
   "cell_type": "markdown",
   "metadata": {},
   "source": [
    "### Using Cross Entropy loss"
   ]
  },
  {
   "cell_type": "code",
   "execution_count": 9,
   "metadata": {},
   "outputs": [
    {
     "name": "stdout",
     "output_type": "stream",
     "text": [
      "Epoch 1/10\n",
      "1106/1106 [==============================] - 47s 38ms/step - loss: 0.3842 - accuracy: 0.8997 - val_loss: 0.2100 - val_accuracy: 0.8999\n",
      "Epoch 2/10\n",
      "1106/1106 [==============================] - 42s 38ms/step - loss: 0.1766 - accuracy: 0.9182 - val_loss: 0.1968 - val_accuracy: 0.9074\n",
      "Epoch 3/10\n",
      "1106/1106 [==============================] - 43s 39ms/step - loss: 0.1666 - accuracy: 0.9233 - val_loss: 0.1853 - val_accuracy: 0.9149\n",
      "Epoch 4/10\n",
      "1106/1106 [==============================] - 43s 39ms/step - loss: 0.1571 - accuracy: 0.9282 - val_loss: 0.1826 - val_accuracy: 0.9153\n",
      "Epoch 5/10\n",
      "1106/1106 [==============================] - 42s 38ms/step - loss: 0.1473 - accuracy: 0.9318 - val_loss: 0.1816 - val_accuracy: 0.9117\n",
      "Epoch 6/10\n",
      "1106/1106 [==============================] - 42s 38ms/step - loss: 0.1411 - accuracy: 0.9366 - val_loss: 0.1818 - val_accuracy: 0.9170\n",
      "Epoch 7/10\n",
      "1106/1106 [==============================] - 41s 37ms/step - loss: 0.1329 - accuracy: 0.9392 - val_loss: 0.1773 - val_accuracy: 0.9168\n",
      "Epoch 8/10\n",
      "1106/1106 [==============================] - 41s 37ms/step - loss: 0.1257 - accuracy: 0.9426 - val_loss: 0.2208 - val_accuracy: 0.9097\n",
      "Epoch 9/10\n",
      "1106/1106 [==============================] - 42s 38ms/step - loss: 0.1153 - accuracy: 0.9495 - val_loss: 0.2262 - val_accuracy: 0.9099\n",
      "Epoch 10/10\n",
      "1106/1106 [==============================] - 44s 39ms/step - loss: 0.1095 - accuracy: 0.9524 - val_loss: 0.1900 - val_accuracy: 0.9209\n",
      "346/346 [==============================] - 10s 27ms/step\n",
      "Balanced Accuracy: 0.7457911572353343\n",
      "Confusion Matrix: [[ 638  584]\n",
      " [ 300 9532]]\n"
     ]
    }
   ],
   "source": [
    "from keras.applications.resnet import ResNet50\n",
    "from keras.models import Model\n",
    "from keras.layers import Flatten, Dense\n",
    "from sklearn.metrics import balanced_accuracy_score\n",
    "from sklearn.metrics import confusion_matrix\n",
    "\n",
    "base_model = ResNet50(include_top=False, weights='imagenet', input_shape=(y, x, 3))\n",
    "for layer in base_model.layers:\n",
    "    layer.trainable = False\n",
    "    \n",
    "x = base_model.output\n",
    "x = Flatten()(x)\n",
    "x = Dense(1024, activation='relu')(x)  \n",
    "predictions = Dense(1, activation='sigmoid')(x)  \n",
    "\n",
    "# Creating model combining the base of ResNet50 and the new custom layers\n",
    "model = Model(inputs=base_model.input, outputs=predictions)\n",
    "\n",
    "# Visualizing the network architecture\n",
    "# model.summary()\n",
    "\n",
    "model.compile(optimizer='adam', loss=\"binary_crossentropy\", metrics=[\"accuracy\"])\n",
    "model.fit(train_data_3, train_labels_tensor, epochs=10, batch_size=32, validation_split=0.2)\n",
    "\n",
    "y_pred = model.predict(test_data_3)\n",
    "\n",
    "\n",
    "print(\"Balanced Accuracy: \" +  str(balanced_accuracy_score(test_labels_tensor, np.rint(y_pred))))\n",
    "print(\"Confusion Matrix: \" +  str(confusion_matrix(test_labels_tensor, np.rint(y_pred))))"
   ]
  },
  {
   "cell_type": "markdown",
   "metadata": {},
   "source": [
    "### Using Binary Accuracy metric"
   ]
  },
  {
   "cell_type": "code",
   "execution_count": 9,
   "metadata": {},
   "outputs": [
    {
     "name": "stdout",
     "output_type": "stream",
     "text": [
      "Epoch 1/10\n",
      "1106/1106 [==============================] - 47s 38ms/step - loss: 0.4522 - binary_accuracy: 0.8996 - val_loss: 0.1870 - val_binary_accuracy: 0.9121\n",
      "Epoch 2/10\n",
      "1106/1106 [==============================] - 40s 37ms/step - loss: 0.1767 - binary_accuracy: 0.9186 - val_loss: 0.1873 - val_binary_accuracy: 0.9137\n",
      "Epoch 3/10\n",
      "1106/1106 [==============================] - 40s 37ms/step - loss: 0.1681 - binary_accuracy: 0.9231 - val_loss: 0.2045 - val_binary_accuracy: 0.9107\n",
      "Epoch 4/10\n",
      "1106/1106 [==============================] - 41s 37ms/step - loss: 0.1605 - binary_accuracy: 0.9253 - val_loss: 0.1754 - val_binary_accuracy: 0.9142\n",
      "Epoch 5/10\n",
      "1106/1106 [==============================] - 41s 37ms/step - loss: 0.1563 - binary_accuracy: 0.9297 - val_loss: 0.1790 - val_binary_accuracy: 0.9159\n",
      "Epoch 6/10\n",
      "1106/1106 [==============================] - 40s 37ms/step - loss: 0.1427 - binary_accuracy: 0.9349 - val_loss: 0.1874 - val_binary_accuracy: 0.9134\n",
      "Epoch 7/10\n",
      "1106/1106 [==============================] - 40s 37ms/step - loss: 0.1358 - binary_accuracy: 0.9379 - val_loss: 0.1927 - val_binary_accuracy: 0.9094\n",
      "Epoch 8/10\n",
      "1106/1106 [==============================] - 40s 37ms/step - loss: 0.1260 - binary_accuracy: 0.9424 - val_loss: 0.1847 - val_binary_accuracy: 0.9154\n",
      "Epoch 9/10\n",
      "1106/1106 [==============================] - 40s 36ms/step - loss: 0.1206 - binary_accuracy: 0.9468 - val_loss: 0.2306 - val_binary_accuracy: 0.8999\n",
      "Epoch 10/10\n",
      "1106/1106 [==============================] - 38s 34ms/step - loss: 0.1145 - binary_accuracy: 0.9485 - val_loss: 0.2151 - val_binary_accuracy: 0.9127\n",
      "346/346 [==============================] - 9s 23ms/step\n",
      "Balanced Accuracy: 0.8101415565460456\n",
      "Confusion Matrix: [[ 821  401]\n",
      " [ 507 9325]]\n"
     ]
    }
   ],
   "source": [
    "from keras.applications.resnet import ResNet50\n",
    "from keras.models import Model\n",
    "from keras.layers import Flatten, Dense\n",
    "from sklearn.metrics import balanced_accuracy_score\n",
    "from sklearn.metrics import confusion_matrix\n",
    "\n",
    "base_model = ResNet50(include_top=False, weights='imagenet', input_shape=(y, x, 3))\n",
    "for layer in base_model.layers:\n",
    "    layer.trainable = False\n",
    "    \n",
    "x = base_model.output\n",
    "x = Flatten()(x)\n",
    "x = Dense(1024, activation='relu')(x)  \n",
    "predictions = Dense(1, activation='sigmoid')(x)  \n",
    "\n",
    "# Creating model combining the base of ResNet50 and the new custom layers\n",
    "model = Model(inputs=base_model.input, outputs=predictions)\n",
    "\n",
    "# Visualizing the network architecture\n",
    "# model.summary()\n",
    "\n",
    "tf.keras.metrics.BinaryAccuracy(\n",
    "    name=\"binary_accuracy\", dtype=None, threshold=0.5\n",
    ")\n",
    "\n",
    "model.compile(optimizer='adam', loss=\"binary_crossentropy\", metrics=[tf.keras.metrics.BinaryAccuracy()])\n",
    "model.fit(train_data_3, train_labels_tensor, epochs=10, batch_size=32, validation_split=0.2)\n",
    "\n",
    "y_pred = model.predict(test_data_3)\n",
    "\n",
    "\n",
    "print(\"Balanced Accuracy: \" +  str(balanced_accuracy_score(test_labels_tensor, np.rint(y_pred))))\n",
    "print(\"Confusion Matrix: \" +  str(confusion_matrix(test_labels_tensor, np.rint(y_pred))))"
   ]
  },
  {
   "cell_type": "markdown",
   "metadata": {},
   "source": [
    "### Using Image Random Flip"
   ]
  },
  {
   "cell_type": "code",
   "execution_count": 7,
   "metadata": {},
   "outputs": [
    {
     "name": "stdout",
     "output_type": "stream",
     "text": [
      "Epoch 1/10\n",
      "1106/1106 [==============================] - 60s 49ms/step - loss: 0.4693 - binary_accuracy: 0.9030 - val_loss: 0.2254 - val_binary_accuracy: 0.9023\n",
      "Epoch 2/10\n",
      "1106/1106 [==============================] - 55s 49ms/step - loss: 0.1737 - binary_accuracy: 0.9207 - val_loss: 0.2462 - val_binary_accuracy: 0.8814\n",
      "Epoch 3/10\n",
      "1106/1106 [==============================] - 55s 49ms/step - loss: 0.1612 - binary_accuracy: 0.9263 - val_loss: 0.2060 - val_binary_accuracy: 0.9064\n",
      "Epoch 4/10\n",
      "1106/1106 [==============================] - 54s 49ms/step - loss: 0.1509 - binary_accuracy: 0.9318 - val_loss: 0.2144 - val_binary_accuracy: 0.8981\n",
      "Epoch 5/10\n",
      "1106/1106 [==============================] - 54s 48ms/step - loss: 0.1440 - binary_accuracy: 0.9345 - val_loss: 0.2309 - val_binary_accuracy: 0.9017\n",
      "Epoch 6/10\n",
      "1106/1106 [==============================] - 53s 48ms/step - loss: 0.1364 - binary_accuracy: 0.9391 - val_loss: 0.2641 - val_binary_accuracy: 0.9028\n",
      "Epoch 7/10\n",
      "1106/1106 [==============================] - 52s 47ms/step - loss: 0.1301 - binary_accuracy: 0.9399 - val_loss: 0.3584 - val_binary_accuracy: 0.8978\n",
      "Epoch 8/10\n",
      "1106/1106 [==============================] - 54s 49ms/step - loss: 0.1240 - binary_accuracy: 0.9426 - val_loss: 0.3114 - val_binary_accuracy: 0.8993\n",
      "Epoch 9/10\n",
      "1106/1106 [==============================] - 55s 50ms/step - loss: 0.1170 - binary_accuracy: 0.9467 - val_loss: 0.2979 - val_binary_accuracy: 0.9028\n",
      "Epoch 10/10\n",
      "1106/1106 [==============================] - 53s 48ms/step - loss: 0.1143 - binary_accuracy: 0.9473 - val_loss: 0.3166 - val_binary_accuracy: 0.9005\n",
      "346/346 [==============================] - 11s 28ms/step\n",
      "Balanced Accuracy: 0.638816153939373\n",
      "Confusion Matrix: [[ 364  858]\n",
      " [ 199 9633]]\n"
     ]
    }
   ],
   "source": [
    "from keras.applications.resnet import ResNet50\n",
    "from keras.models import Model\n",
    "from keras.layers import Flatten, Dense, RandomFlip\n",
    "from sklearn.metrics import balanced_accuracy_score\n",
    "from sklearn.metrics import confusion_matrix\n",
    "\n",
    "base_model = ResNet50(include_top=False, weights='imagenet', input_shape=(y, x, 3))\n",
    "for layer in base_model.layers:\n",
    "    layer.trainable = False\n",
    "    \n",
    "x = base_model.output\n",
    "x = RandomFlip(\"horizontal\")(x)\n",
    "x = Flatten()(x)\n",
    "x = Dense(1024, activation='relu')(x)  \n",
    "predictions = Dense(1, activation='sigmoid')(x)  \n",
    "\n",
    "# Creating model combining the base of ResNet50 and the new custom layers\n",
    "model = Model(inputs=base_model.input, outputs=predictions)\n",
    "\n",
    "# Visualizing the network architecture\n",
    "# model.summary()\n",
    "\n",
    "tf.keras.metrics.BinaryAccuracy(\n",
    "    name=\"binary_accuracy\", dtype=None, threshold=0.5\n",
    ")\n",
    "\n",
    "model.compile(optimizer='adam', loss=\"binary_crossentropy\", metrics=[tf.keras.metrics.BinaryAccuracy()])\n",
    "model.fit(train_data_3, train_labels_tensor, epochs=10, batch_size=32, validation_split=0.2)\n",
    "\n",
    "y_pred = model.predict(test_data_3)\n",
    "\n",
    "\n",
    "print(\"Balanced Accuracy: \" +  str(balanced_accuracy_score(test_labels_tensor, np.rint(y_pred))))\n",
    "print(\"Confusion Matrix: \" +  str(confusion_matrix(test_labels_tensor, np.rint(y_pred))))"
   ]
  },
  {
   "cell_type": "markdown",
   "metadata": {},
   "source": [
    "### Using Binary Focal loss"
   ]
  },
  {
   "cell_type": "code",
   "execution_count": 9,
   "metadata": {},
   "outputs": [],
   "source": [
    "from keras.applications.resnet import ResNet50\n",
    "from keras.models import Model\n",
    "from keras.layers import Flatten, Dense, RandomRotation, RandomFlip, RandomZoom\n",
    "\n",
    "# passar pra 3 canais\n",
    "# incluir uma camada que faça a classificacao\n",
    "# flatten\n",
    "# densa\n",
    "# classificacao\n",
    "\n",
    "base_model = ResNet50(include_top=False, weights='imagenet', input_shape=(y, x, 3))\n",
    "for layer in base_model.layers:\n",
    "    layer.trainable = False\n",
    "    \n",
    "x = base_model.output\n",
    "# x = RandomFlip(\"horizontal\")(x)\n",
    "# x = RandomZoom(0.2)(x)\n",
    "# x = RandomRotation(0.2)(x)\n",
    "x = Flatten()(x)\n",
    "x = Dense(1024, activation='relu')(x)  \n",
    "predictions = Dense(1, activation='sigmoid')(x)  \n",
    "\n",
    "# Creating model combining the base of ResNet50 and the new custom layers\n",
    "model = Model(inputs=base_model.input, outputs=predictions)\n",
    "\n",
    "# Visualizing the network architecture\n",
    "# model.summary()"
   ]
  },
  {
   "cell_type": "code",
   "execution_count": 10,
   "metadata": {},
   "outputs": [
    {
     "data": {
      "text/plain": [
       "<keras.metrics.metrics.BinaryAccuracy at 0x267df22d850>"
      ]
     },
     "execution_count": 10,
     "metadata": {},
     "output_type": "execute_result"
    }
   ],
   "source": [
    "tf.keras.metrics.BinaryAccuracy(\n",
    "    name=\"binary_accuracy\", dtype=None, threshold=0.5\n",
    ")"
   ]
  },
  {
   "cell_type": "code",
   "execution_count": 11,
   "metadata": {},
   "outputs": [
    {
     "name": "stdout",
     "output_type": "stream",
     "text": [
      "Epoch 1/10\n",
      "1106/1106 [==============================] - 47s 38ms/step - loss: 0.3548 - binary_accuracy: 0.8941 - val_loss: 0.0571 - val_binary_accuracy: 0.8967\n",
      "Epoch 2/10\n",
      "1106/1106 [==============================] - 40s 37ms/step - loss: 0.0434 - binary_accuracy: 0.9251 - val_loss: 0.0515 - val_binary_accuracy: 0.9036\n",
      "Epoch 3/10\n",
      "1106/1106 [==============================] - 40s 36ms/step - loss: 0.0430 - binary_accuracy: 0.9241 - val_loss: 0.0500 - val_binary_accuracy: 0.9056\n",
      "Epoch 4/10\n",
      "1106/1106 [==============================] - 39s 35ms/step - loss: 0.0425 - binary_accuracy: 0.9251 - val_loss: 0.0468 - val_binary_accuracy: 0.9185\n",
      "Epoch 5/10\n",
      "1106/1106 [==============================] - 39s 35ms/step - loss: 0.0442 - binary_accuracy: 0.9216 - val_loss: 0.0490 - val_binary_accuracy: 0.9100\n",
      "Epoch 6/10\n",
      "1106/1106 [==============================] - 39s 35ms/step - loss: 0.0410 - binary_accuracy: 0.9269 - val_loss: 0.0490 - val_binary_accuracy: 0.9154\n",
      "Epoch 7/10\n",
      "1106/1106 [==============================] - 39s 35ms/step - loss: 0.0397 - binary_accuracy: 0.9292 - val_loss: 0.0451 - val_binary_accuracy: 0.9149\n",
      "Epoch 8/10\n",
      "1106/1106 [==============================] - 39s 35ms/step - loss: 0.0366 - binary_accuracy: 0.9346 - val_loss: 0.0509 - val_binary_accuracy: 0.9119\n",
      "Epoch 9/10\n",
      "1106/1106 [==============================] - 40s 36ms/step - loss: 0.0354 - binary_accuracy: 0.9373 - val_loss: 0.0484 - val_binary_accuracy: 0.9186\n",
      "Epoch 10/10\n",
      "1106/1106 [==============================] - 39s 35ms/step - loss: 0.0339 - binary_accuracy: 0.9392 - val_loss: 0.0528 - val_binary_accuracy: 0.9097\n"
     ]
    },
    {
     "data": {
      "text/plain": [
       "<keras.callbacks.History at 0x267f000ddc0>"
      ]
     },
     "execution_count": 11,
     "metadata": {},
     "output_type": "execute_result"
    }
   ],
   "source": [
    "model.compile(optimizer='adam', loss=tf.keras.losses.BinaryFocalCrossentropy(gamma=2.0), metrics=[tf.keras.metrics.BinaryAccuracy()])\n",
    "model.fit(train_data_3, train_labels_tensor, epochs=10, batch_size=32, validation_split=0.2)\n"
   ]
  },
  {
   "cell_type": "code",
   "execution_count": 12,
   "metadata": {},
   "outputs": [
    {
     "name": "stdout",
     "output_type": "stream",
     "text": [
      "346/346 [==============================] - 9s 23ms/step\n"
     ]
    }
   ],
   "source": [
    "y_pred = model.predict(test_data_3)"
   ]
  },
  {
   "cell_type": "code",
   "execution_count": 15,
   "metadata": {},
   "outputs": [
    {
     "data": {
      "text/plain": [
       "{0.0: 1556, 1.0: 9498}"
      ]
     },
     "execution_count": 15,
     "metadata": {},
     "output_type": "execute_result"
    }
   ],
   "source": [
    "a= np.rint(y_pred)\n",
    "\n",
    "unique, counts = np.unique(a, return_counts=True)\n",
    "\n",
    "dict(zip(unique, counts))"
   ]
  },
  {
   "cell_type": "code",
   "execution_count": 16,
   "metadata": {},
   "outputs": [
    {
     "name": "stdout",
     "output_type": "stream",
     "text": [
      "0.8390284937523222\n"
     ]
    }
   ],
   "source": [
    "# calculate the balanced accuracy\n",
    "from sklearn.metrics import balanced_accuracy_score\n",
    "print(balanced_accuracy_score(test_labels_tensor, np.rint(y_pred)))"
   ]
  },
  {
   "cell_type": "code",
   "execution_count": 17,
   "metadata": {},
   "outputs": [
    {
     "name": "stdout",
     "output_type": "stream",
     "text": [
      "[[ 909  313]\n",
      " [ 647 9185]]\n"
     ]
    }
   ],
   "source": [
    "from sklearn.metrics import confusion_matrix\n",
    "\n",
    "conf_mat = confusion_matrix(test_labels_tensor, np.rint(y_pred))\n",
    "print(conf_mat)"
   ]
  }
 ],
 "metadata": {
  "kernelspec": {
   "display_name": "kaggle",
   "language": "python",
   "name": "python3"
  },
  "language_info": {
   "codemirror_mode": {
    "name": "ipython",
    "version": 3
   },
   "file_extension": ".py",
   "mimetype": "text/x-python",
   "name": "python",
   "nbconvert_exporter": "python",
   "pygments_lexer": "ipython3",
   "version": "3.8.0"
  }
 },
 "nbformat": 4,
 "nbformat_minor": 2
}
