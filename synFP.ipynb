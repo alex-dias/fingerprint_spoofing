{
 "cells": [
  {
   "cell_type": "code",
   "execution_count": 1,
   "metadata": {},
   "outputs": [],
   "source": [
    "import numpy as np\n",
    "import os\n",
    "import cv2 as cv\n",
    "from sklearn.model_selection import train_test_split\n",
    "import tensorflow as tf\n",
    "real_data = \"CrossMatch\"\n",
    "altered_data = \"AMSL_SynFP_SGR_v1/crossmatch_andrey_512_seeds1-50000\""
   ]
  },
  {
   "cell_type": "markdown",
   "metadata": {},
   "source": [
    "Sokoto Coventry Fingerprint Dataset (SOCOFing) is a biometric fingerprint database designed for academic research purposes. SOCOFing is made up of 6,000 fingerprint images from 600 African subjects and contains unique attributes such as labels for gender, hand and finger name as well as synthetically altered versions with three different levels of alteration for obliteration, central rotation, and z-cut. For a complete formal description and usage policy please refer to the following paper: https://arxiv.org/abs/1807.10609"
   ]
  },
  {
   "cell_type": "code",
   "execution_count": 2,
   "metadata": {},
   "outputs": [],
   "source": [
    "data = []\n",
    "labels = []\n",
    "\n",
    "# load the real data and their labels\n",
    "photos_names = os.listdir(real_data)\n",
    "for name in photos_names:\n",
    "    data.append(cv.imread(os.path.join(real_data ,name) ,cv.IMREAD_GRAYSCALE))\n",
    "    labels.append(0)\n",
    "\n",
    "# load the altered data and their labels\n",
    "photos_names = os.listdir(altered_data)\n",
    "for name in photos_names:\n",
    "    data.append(cv.imread(os.path.join(altered_data, name) ,cv.IMREAD_GRAYSCALE))\n",
    "    labels.append(1)"
   ]
  },
  {
   "cell_type": "code",
   "execution_count": 3,
   "metadata": {},
   "outputs": [],
   "source": [
    "x = 96\n",
    "y = 103"
   ]
  },
  {
   "cell_type": "code",
   "execution_count": 4,
   "metadata": {},
   "outputs": [],
   "source": [
    "# resizeing all the data to 103X96\n",
    "for i,image in enumerate(data):\n",
    "    data[i] = cv.resize(image ,(x,y))\n",
    "    \n",
    "data = np.stack(data).reshape(-1 ,y ,x ,1)\n",
    "labels = np.stack(labels).reshape(-1 ,1)"
   ]
  },
  {
   "cell_type": "code",
   "execution_count": 5,
   "metadata": {},
   "outputs": [],
   "source": [
    "train_data, test_data, train_labels, test_labels  = train_test_split(data, labels, test_size=0.2, random_state=42)"
   ]
  },
  {
   "cell_type": "code",
   "execution_count": 6,
   "metadata": {},
   "outputs": [
    {
     "name": "stdout",
     "output_type": "stream",
     "text": [
      "images without the correct shape:  0\n"
     ]
    }
   ],
   "source": [
    "# print the shape of the data for each image\n",
    "i = 0\n",
    "for image in train_data:\n",
    "    if image.shape != (y, x, 1):\n",
    "        i += 1\n",
    "print('images without the correct shape: ', i)"
   ]
  },
  {
   "cell_type": "code",
   "execution_count": 23,
   "metadata": {},
   "outputs": [
    {
     "name": "stdout",
     "output_type": "stream",
     "text": [
      "[1]\n"
     ]
    },
    {
     "data": {
      "image/png": "[encoded data removed]",
      "text/plain": [
       "<Figure size 640x480 with 1 Axes>"
      ]
     },
     "metadata": {},
     "output_type": "display_data"
    }
   ],
   "source": [
    "# visualization of 1 image from train data\n",
    "import matplotlib.pyplot as plt\n",
    "print(train_labels[1])\n",
    "plt.imshow(train_data[1], cmap='gray')\n",
    "plt.show()"
   ]
  },
  {
   "cell_type": "code",
   "execution_count": 8,
   "metadata": {},
   "outputs": [],
   "source": [
    "# converting numpy arrays to tensors\n",
    "train_data_tensor = tf.convert_to_tensor(train_data, dtype=tf.float16)\n",
    "test_data_tensor = tf.convert_to_tensor(test_data, dtype=tf.float16)\n",
    "train_labels_tensor = tf.convert_to_tensor(train_labels, dtype=tf.int16)\n",
    "test_labels_tensor = tf.convert_to_tensor(test_labels, dtype=tf.int16)\n",
    "\n",
    "# converting to 3 channels\n",
    "train_data_3 = tf.image.grayscale_to_rgb(train_data_tensor)\n",
    "test_data_3 = tf.image.grayscale_to_rgb(test_data_tensor)"
   ]
  },
  {
   "cell_type": "code",
   "execution_count": 9,
   "metadata": {},
   "outputs": [],
   "source": [
    "from keras.applications.resnet import ResNet50\n",
    "from keras.models import Model\n",
    "from keras.layers import Flatten, Dense\n",
    "\n",
    "# passar pra 3 canais\n",
    "# incluir uma camada que faça a classificacao\n",
    "# flatten\n",
    "# densa\n",
    "# classificacao\n",
    "\n",
    "base_model = ResNet50(include_top=False, weights='imagenet', input_shape=(y, x, 3))\n",
    "for layer in base_model.layers:\n",
    "    layer.trainable = False\n",
    "    \n",
    "x = base_model.output\n",
    "x = Flatten()(x)\n",
    "x = Dense(1024, activation='relu')(x)  \n",
    "predictions = Dense(1, activation='sigmoid')(x)  \n",
    "\n",
    "# Creating model combining the base of ResNet50 and the new custom layers\n",
    "model = Model(inputs=base_model.input, outputs=predictions)\n",
    "\n",
    "# Visualizing the network architecture\n",
    "# model.summary()"
   ]
  },
  {
   "cell_type": "code",
   "execution_count": 10,
   "metadata": {},
   "outputs": [
    {
     "data": {
      "text/plain": [
       "<keras.metrics.metrics.BinaryAccuracy at 0x1558806fa90>"
      ]
     },
     "execution_count": 10,
     "metadata": {},
     "output_type": "execute_result"
    }
   ],
   "source": [
    "tf.keras.metrics.BinaryAccuracy(\n",
    "    name=\"binary_accuracy\", dtype=None, threshold=0.5\n",
    ")"
   ]
  },
  {
   "cell_type": "code",
   "execution_count": 11,
   "metadata": {},
   "outputs": [
    {
     "name": "stdout",
     "output_type": "stream",
     "text": [
      "Epoch 1/10\n",
      "1009/1009 [==============================] - 44s 37ms/step - loss: 0.3100 - binary_accuracy: 0.9910 - val_loss: 0.0405 - val_binary_accuracy: 0.9964\n",
      "Epoch 2/10\n",
      "1009/1009 [==============================] - 37s 36ms/step - loss: 0.0285 - binary_accuracy: 0.9967 - val_loss: 0.0260 - val_binary_accuracy: 0.9922\n",
      "Epoch 3/10\n",
      "1009/1009 [==============================] - 37s 36ms/step - loss: 0.0171 - binary_accuracy: 0.9975 - val_loss: 0.0146 - val_binary_accuracy: 0.9979\n",
      "Epoch 4/10\n",
      "1009/1009 [==============================] - 37s 36ms/step - loss: 0.0058 - binary_accuracy: 0.9986 - val_loss: 0.0194 - val_binary_accuracy: 0.9978\n",
      "Epoch 5/10\n",
      "1009/1009 [==============================] - 37s 36ms/step - loss: 0.0046 - binary_accuracy: 0.9990 - val_loss: 0.0121 - val_binary_accuracy: 0.9985\n",
      "Epoch 6/10\n",
      "1009/1009 [==============================] - 37s 36ms/step - loss: 0.0097 - binary_accuracy: 0.9984 - val_loss: 0.0116 - val_binary_accuracy: 0.9975\n",
      "Epoch 7/10\n",
      "1009/1009 [==============================] - 37s 36ms/step - loss: 0.0069 - binary_accuracy: 0.9982 - val_loss: 0.0077 - val_binary_accuracy: 0.9985\n",
      "Epoch 8/10\n",
      "1009/1009 [==============================] - 37s 36ms/step - loss: 0.0160 - binary_accuracy: 0.9977 - val_loss: 0.0094 - val_binary_accuracy: 0.9984\n",
      "Epoch 9/10\n",
      "1009/1009 [==============================] - 37s 36ms/step - loss: 0.0030 - binary_accuracy: 0.9993 - val_loss: 0.0151 - val_binary_accuracy: 0.9974\n",
      "Epoch 10/10\n",
      "1009/1009 [==============================] - 36s 35ms/step - loss: 0.0077 - binary_accuracy: 0.9987 - val_loss: 0.0065 - val_binary_accuracy: 0.9981\n"
     ]
    },
    {
     "data": {
      "text/plain": [
       "<keras.callbacks.History at 0x1558ef74e50>"
      ]
     },
     "execution_count": 11,
     "metadata": {},
     "output_type": "execute_result"
    }
   ],
   "source": [
    "model.compile(optimizer='adam', loss='binary_crossentropy', metrics=[tf.keras.metrics.BinaryAccuracy()])\n",
    "model.fit(train_data_3, train_labels_tensor, epochs=10, batch_size=32, validation_split=0.2)\n"
   ]
  },
  {
   "cell_type": "code",
   "execution_count": 12,
   "metadata": {},
   "outputs": [
    {
     "name": "stdout",
     "output_type": "stream",
     "text": [
      "316/316 [==============================] - 8s 25ms/step\n"
     ]
    }
   ],
   "source": [
    "y_pred = model.predict(test_data_3)"
   ]
  },
  {
   "cell_type": "code",
   "execution_count": 13,
   "metadata": {},
   "outputs": [
    {
     "data": {
      "text/plain": [
       "<tf.Tensor: shape=(10082, 1), dtype=int16, numpy=\n",
       "array([[1],\n",
       "       [1],\n",
       "       [1],\n",
       "       ...,\n",
       "       [1],\n",
       "       [1],\n",
       "       [1]], dtype=int16)>"
      ]
     },
     "execution_count": 13,
     "metadata": {},
     "output_type": "execute_result"
    }
   ],
   "source": [
    "test_labels_tensor"
   ]
  },
  {
   "cell_type": "code",
   "execution_count": 14,
   "metadata": {},
   "outputs": [
    {
     "data": {
      "text/plain": [
       "array([[0.99997735],\n",
       "       [1.        ],\n",
       "       [0.9994523 ],\n",
       "       ...,\n",
       "       [0.99963784],\n",
       "       [0.99999774],\n",
       "       [0.9999871 ]], dtype=float32)"
      ]
     },
     "execution_count": 14,
     "metadata": {},
     "output_type": "execute_result"
    }
   ],
   "source": [
    "y_pred"
   ]
  },
  {
   "cell_type": "code",
   "execution_count": 17,
   "metadata": {},
   "outputs": [
    {
     "data": {
      "text/plain": [
       "{0.0: 50, 1.0: 10032}"
      ]
     },
     "execution_count": 17,
     "metadata": {},
     "output_type": "execute_result"
    }
   ],
   "source": [
    "a= np.rint(y_pred)\n",
    "\n",
    "unique, counts = np.unique(a, return_counts=True)\n",
    "\n",
    "dict(zip(unique, counts))"
   ]
  },
  {
   "cell_type": "code",
   "execution_count": 18,
   "metadata": {},
   "outputs": [
    {
     "name": "stdout",
     "output_type": "stream",
     "text": [
      "0.8355664833157008\n"
     ]
    }
   ],
   "source": [
    "# calculate the balanced accuracy\n",
    "from sklearn.metrics import balanced_accuracy_score\n",
    "print(balanced_accuracy_score(test_labels_tensor, np.rint(y_pred)))"
   ]
  },
  {
   "cell_type": "code",
   "execution_count": 19,
   "metadata": {},
   "outputs": [
    {
     "name": "stdout",
     "output_type": "stream",
     "text": [
      "[[   49    24]\n",
      " [    1 10008]]\n"
     ]
    }
   ],
   "source": [
    "from sklearn.metrics import confusion_matrix\n",
    "\n",
    "conf_mat = confusion_matrix(test_labels_tensor, np.rint(y_pred))\n",
    "print(conf_mat)"
   ]
  },
  {
   "cell_type": "code",
   "execution_count": 20,
   "metadata": {},
   "outputs": [
    {
     "name": "stdout",
     "output_type": "stream",
     "text": [
      "[[6.71232877e-01 3.28767123e-01]\n",
      " [9.99100809e-05 9.99900090e-01]]\n"
     ]
    }
   ],
   "source": [
    "conf_mat = confusion_matrix(test_labels_tensor, np.rint(y_pred), normalize='true')\n",
    "print(conf_mat)"
   ]
  },
  {
   "cell_type": "code",
   "execution_count": 40,
   "metadata": {},
   "outputs": [
    {
     "data": {
      "text/plain": [
       "array([ 689,  533,  416, 9416], dtype=int64)"
      ]
     },
     "execution_count": 40,
     "metadata": {},
     "output_type": "execute_result"
    }
   ],
   "source": [
    "confusion_matrix(test_labels_tensor, np.rint(y_pred)).ravel()"
   ]
  }
 ],
 "metadata": {
  "kernelspec": {
   "display_name": "kaggle",
   "language": "python",
   "name": "python3"
  },
  "language_info": {
   "codemirror_mode": {
    "name": "ipython",
    "version": 3
   },
   "file_extension": ".py",
   "mimetype": "text/x-python",
   "name": "python",
   "nbconvert_exporter": "python",
   "pygments_lexer": "ipython3",
   "version": "3.8.0"
  }
 },
 "nbformat": 4,
 "nbformat_minor": 2
}
